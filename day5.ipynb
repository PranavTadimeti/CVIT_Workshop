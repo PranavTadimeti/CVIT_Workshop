{
  "nbformat": 4,
  "nbformat_minor": 0,
  "metadata": {
    "colab": {
      "name": "day5.ipynb",
      "provenance": [],
      "collapsed_sections": []
    },
    "kernelspec": {
      "name": "python3",
      "display_name": "Python 3"
    }
  },
  "cells": [
    {
      "cell_type": "code",
      "metadata": {
        "id": "XTt57EyPsvzL",
        "colab_type": "code",
        "outputId": "b10f5250-7b5c-4094-b0db-1c3ef0cd28d1",
        "colab": {
          "base_uri": "https://localhost:8080/",
          "height": 34
        }
      },
      "source": [
        "# Modify the empty list, p, so that it becomes a UNIFORM probability\n",
        "# distribution over n grid cells, as expressed in a list of \n",
        "# n probabilities.\n",
        "def init_distribution(n):\n",
        "    p = [float(1/n) for i in range(n)]\n",
        "    # Add your code here\n",
        "    \n",
        "    # End your code here\n",
        "    return p\n",
        "\n",
        "init_distribution(5)"
      ],
      "execution_count": 0,
      "outputs": [
        {
          "output_type": "execute_result",
          "data": {
            "text/plain": [
              "[0.2, 0.2, 0.2, 0.2, 0.2]"
            ]
          },
          "metadata": {
            "tags": []
          },
          "execution_count": 2
        }
      ]
    },
    {
      "cell_type": "code",
      "metadata": {
        "id": "ag4agFJZ_SAd",
        "colab_type": "code",
        "outputId": "f04f87f4-19a4-4e2a-ea15-824d2770ae24",
        "colab": {
          "base_uri": "https://localhost:8080/",
          "height": 104
        }
      },
      "source": [
        "#Modify the code below so that the function sense, which \n",
        "#takes p and Z as inputs, will output the normalized \n",
        "#probability distribution, q, after multiplying the entries \n",
        "# in p according to the color in the corresponding cell in world,\n",
        "# followed by normalization of the probability values\n",
        "world=['green', 'red', 'red', 'green', 'green']\n",
        "p = [0.2, 0.2, 0.2, 0.2, 0.2]\n",
        "\n",
        "def sense(p, Z):\n",
        "    \n",
        "    # Add your code here\n",
        "    \n",
        "    q = []\n",
        "\n",
        "    arr = [0.25,0.75]\n",
        "    s = 0\n",
        "    for i in range(len(world)):\n",
        "      s += (arr[world[i] == Z]*p[i])\n",
        "    \n",
        "    q = [(arr[world[i] == Z]*p[i])/s for i in range(len(world))]\n",
        "\n",
        "    # End your code here\n",
        "    return q\n",
        "            \n",
        "sense(p, 'green')"
      ],
      "execution_count": 0,
      "outputs": [
        {
          "output_type": "execute_result",
          "data": {
            "text/plain": [
              "[0.27272727272727276,\n",
              " 0.09090909090909091,\n",
              " 0.09090909090909091,\n",
              " 0.27272727272727276,\n",
              " 0.27272727272727276]"
            ]
          },
          "metadata": {
            "tags": []
          },
          "execution_count": 27
        }
      ]
    },
    {
      "cell_type": "code",
      "metadata": {
        "id": "s6c2sIrODcD0",
        "colab_type": "code",
        "outputId": "a58e3bf5-c9e2-445e-8d1e-17d21007b00e",
        "colab": {
          "base_uri": "https://localhost:8080/",
          "height": 34
        }
      },
      "source": [
        "import numpy as np\n",
        "\n",
        "#Modify the code so that it updates the probability twice\n",
        "#and gives the posterior distribution after both \n",
        "#measurements are incorporated. Make sure that your code \n",
        "#allows for any sequence of measurement of any length.\n",
        "\n",
        "# DO NOT MODIFY THE SENSE FUNCTION. JUST CALL THE SENSE FUNCTION APPROPRIATELY\n",
        "\n",
        "p=[0.2, 0.2, 0.2, 0.2, 0.2]\n",
        "world=['green', 'red', 'red', 'green', 'green']\n",
        "measurements = ['red', 'green']\n",
        "\n",
        "# Add your code here\n",
        "\n",
        "for i in measurements:\n",
        "  p = sense(p,i)\n",
        "\n",
        "# End your code here\n",
        "print(p)"
      ],
      "execution_count": 0,
      "outputs": [
        {
          "output_type": "stream",
          "text": [
            "[0.19999999999999998, 0.19999999999999998, 0.19999999999999998, 0.19999999999999998, 0.19999999999999998]\n"
          ],
          "name": "stdout"
        }
      ]
    },
    {
      "cell_type": "code",
      "metadata": {
        "id": "ByV9Crw9GeMC",
        "colab_type": "code",
        "outputId": "0ca27d28-3491-44bd-93ee-4d764890a3b2",
        "colab": {
          "base_uri": "https://localhost:8080/",
          "height": 34
        }
      },
      "source": [
        "def move(p,U):\n",
        "  q = np.roll(np.asarray(p),U)\n",
        "  return q\n",
        "\n",
        "move([0.11,0.33,0.33,0.11,0.11],1)"
      ],
      "execution_count": 0,
      "outputs": [
        {
          "output_type": "execute_result",
          "data": {
            "text/plain": [
              "array([0.11, 0.11, 0.33, 0.33, 0.11])"
            ]
          },
          "metadata": {
            "tags": []
          },
          "execution_count": 24
        }
      ]
    },
    {
      "cell_type": "code",
      "metadata": {
        "id": "TfoR4w-iHqOj",
        "colab_type": "code",
        "outputId": "5b58acc9-0c2a-4052-c4d7-92e4b5cb40bf",
        "colab": {
          "base_uri": "https://localhost:8080/",
          "height": 104
        }
      },
      "source": [
        "# probabilistic movement\n",
        "\n",
        "def prob_move(p,U):\n",
        "  q = [0,0,0,0,0]\n",
        "  for i in range(len(world)):\n",
        "    q[(i+U+1)%len(p)] += (0.1*p[i])\n",
        "    q[(i+U-1)%len(p)] += (0.1*p[i])\n",
        "    q[(i+U)%len(p)] += ((0.8)*p[i])\n",
        "  return q\n",
        "\n",
        "p = [0,1,0,0,0]\n",
        "for i in range(1000):\n",
        "  p = prob_move(p,1)\n",
        "\n",
        "p"
      ],
      "execution_count": 0,
      "outputs": [
        {
          "output_type": "execute_result",
          "data": {
            "text/plain": [
              "[0.2000000000000035,\n",
              " 0.20000000000000362,\n",
              " 0.2000000000000035,\n",
              " 0.2000000000000035,\n",
              " 0.2000000000000035]"
            ]
          },
          "metadata": {
            "tags": []
          },
          "execution_count": 37
        }
      ]
    },
    {
      "cell_type": "code",
      "metadata": {
        "id": "LrjHuCpVSHIp",
        "colab_type": "code",
        "outputId": "138700b3-e001-4d91-8c4f-fdbea5372d81",
        "colab": {
          "base_uri": "https://localhost:8080/",
          "height": 104
        }
      },
      "source": [
        "#Given the list motions=[1,1] which means the robot \n",
        "#moves right and then right again, compute the posterior \n",
        "#distribution if the robot first senses red, then moves \n",
        "#right one, then senses green, then moves right again, \n",
        "#starting with a uniform prior distribution.\n",
        "\n",
        "world=['green', 'red', 'red', 'green', 'green']\n",
        "measurements = ['red', 'green']\n",
        "motions = [1,1]\n",
        "\n",
        "p = init_distribution(len(world))\n",
        "# ADD CODE HERE\n",
        "\n",
        "for i in range(len(measurements)):\n",
        "  p = prob_move(p,motions[i])\n",
        "  p = sense(p,measurements[i])\n",
        "  \n",
        "\n",
        "p"
      ],
      "execution_count": 0,
      "outputs": [
        {
          "output_type": "execute_result",
          "data": {
            "text/plain": [
              "[0.15789473684210525,\n",
              " 0.0631578947368421,\n",
              " 0.14736842105263157,\n",
              " 0.4421052631578947,\n",
              " 0.18947368421052632]"
            ]
          },
          "metadata": {
            "tags": []
          },
          "execution_count": 40
        }
      ]
    },
    {
      "cell_type": "markdown",
      "metadata": {
        "id": "iZ0bAW_asp7X",
        "colab_type": "text"
      },
      "source": [
        "http://adit.io/posts/2016-02-20-Linear-Regression-in-Pictures.html\n",
        "\n",
        "http://adit.io/posts/2016-03-13-Logistic-Regression.html#non-linear-classification"
      ]
    },
    {
      "cell_type": "code",
      "metadata": {
        "id": "Dwq_FgblslSe",
        "colab_type": "code",
        "colab": {}
      },
      "source": [
        ""
      ],
      "execution_count": 0,
      "outputs": []
    }
  ]
}