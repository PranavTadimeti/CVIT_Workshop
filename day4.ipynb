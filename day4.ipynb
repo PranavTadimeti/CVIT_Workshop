{
  "nbformat": 4,
  "nbformat_minor": 0,
  "metadata": {
    "colab": {
      "name": "day4.ipynb",
      "provenance": []
    },
    "kernelspec": {
      "name": "python3",
      "display_name": "Python 3"
    }
  },
  "cells": [
    {
      "cell_type": "code",
      "metadata": {
        "id": "BT7fkSH2cU7T",
        "colab_type": "code",
        "outputId": "e1662f63-5f18-41fb-d778-49a74f634420",
        "colab": {
          "base_uri": "https://localhost:8080/",
          "height": 124
        }
      },
      "source": [
        "import cv2\n",
        "from google.colab import drive\n",
        "import numpy as np\n",
        "from google.colab.patches import cv2_imshow\n",
        "drive.mount('/content/drive')\n",
        "\n",
        "# 4/0QFa0resST67W2MgQa92Fw2uhsSaVsZZIpi-fTXWsJ8feRzD0I1Z2Wk\n",
        "\n"
      ],
      "execution_count": 0,
      "outputs": [
        {
          "output_type": "stream",
          "text": [
            "Go to this URL in a browser: https://accounts.google.com/o/oauth2/auth?client_id=947318989803-6bn6qk8qdgf4n4g3pfee6491hc0brc4i.apps.googleusercontent.com&redirect_uri=urn%3aietf%3awg%3aoauth%3a2.0%3aoob&response_type=code&scope=email%20https%3a%2f%2fwww.googleapis.com%2fauth%2fdocs.test%20https%3a%2f%2fwww.googleapis.com%2fauth%2fdrive%20https%3a%2f%2fwww.googleapis.com%2fauth%2fdrive.photos.readonly%20https%3a%2f%2fwww.googleapis.com%2fauth%2fpeopleapi.readonly\n",
            "\n",
            "Enter your authorization code:\n",
            "··········\n",
            "Mounted at /content/drive\n"
          ],
          "name": "stdout"
        }
      ]
    },
    {
      "cell_type": "code",
      "metadata": {
        "id": "TzdnKmF7qMnm",
        "colab_type": "code",
        "outputId": "f52b796c-1886-4c6c-e14e-58e0d940cd7f",
        "colab": {
          "base_uri": "https://localhost:8080/",
          "height": 34
        }
      },
      "source": [
        "# question 1\n",
        "\n",
        "im = cv2.imread('/content/62.png',cv2.IMREAD_GRAYSCALE)\n",
        "\n",
        "mat = np.zeros((3,3))\n",
        "\n",
        "vect = np.reshape((im[14:17,14:17]),(1,9))\n",
        "vect"
      ],
      "execution_count": 0,
      "outputs": [
        {
          "output_type": "execute_result",
          "data": {
            "text/plain": [
              "array([[117, 117, 118, 116, 116, 117, 114, 114, 117]], dtype=uint8)"
            ]
          },
          "metadata": {
            "tags": []
          },
          "execution_count": 33
        }
      ]
    },
    {
      "cell_type": "code",
      "metadata": {
        "id": "WFW1UZ2_vtOv",
        "colab_type": "code",
        "colab": {}
      },
      "source": [
        "# matches\n",
        "\n",
        "match = cv2.BFMatcher()\n",
        "matches = match.knnMatch(des1,des2,k=2)\n",
        "\n",
        "good = []\n",
        "for m,n in matches:\n",
        "    if m.distance < 0.7*n.distance:\n",
        "        good.append(m)\n",
        "\n",
        "draw_params = dict(matchColor=(0,255,0),\n",
        "                       singlePointColor=None,\n",
        "                       flags=2)\n",
        "\n",
        "img3 = cv2.drawMatches(image1,kp1,image2,kp2,good,None,**draw_params)\n",
        "plt.imshow(img3)"
      ],
      "execution_count": 0,
      "outputs": []
    },
    {
      "cell_type": "code",
      "metadata": {
        "id": "2M9w3K6K2h0-",
        "colab_type": "code",
        "outputId": "54c5e8be-def3-43b9-86f0-1c7a661f5b53",
        "colab": {
          "base_uri": "https://localhost:8080/",
          "height": 257
        }
      },
      "source": [
        "# Panorama\n",
        "\n",
        "image1=cv2.imread('drive/My Drive/CVIT Day 4/Panorama/Eg1/img2_2.png')\n",
        "image2=cv2.imread('drive/My Drive/CVIT Day 4/Panorama/Eg1/img2_1.png')\n",
        "\n",
        "image1_gray=cv2.cvtColor(image1,cv2.COLOR_BGR2GRAY)\n",
        "image2_gray=cv2.cvtColor(image2,cv2.COLOR_BGR2GRAY)\n",
        "\n",
        "image1=cv2.cvtColor(image1,cv2.COLOR_BGR2RGB)\n",
        "image2=cv2.cvtColor(image2,cv2.COLOR_BGR2RGB)\n",
        "\n",
        "# find the keypoints and descriptors with ORB\n",
        "kp1, des1 = orb.detectAndCompute(image1_gray,None)\n",
        "kp2, des2 = orb.detectAndCompute(image2_gray,None)\n",
        "\n",
        "# Initiate Sift detector\n",
        "sift =cv2.xfeatures2d.SIFT_create()\n",
        "kp1, des1 = sift.detectAndCompute(image1_gray,None)\n",
        "kp2, des2 = sift.detectAndCompute(image2_gray,None)\n",
        "\n",
        "match = cv2.BFMatcher()\n",
        "matches = match.knnMatch(des1,des2,k=2)\n",
        "\n",
        "good = []\n",
        "for m,n in matches:\n",
        "    if m.distance < 0.03*n.distance:\n",
        "        good.append(m)\n",
        "\n",
        "draw_params = dict(matchColor=(0,255,0),\n",
        "                       singlePointColor=None,\n",
        "                       flags=2)\n",
        "\n",
        "img3 = cv2.drawMatches(image1_gray,kp1,image2_gray,kp2,good,None,**draw_params)\n",
        "plt.imshow(img3)"
      ],
      "execution_count": 0,
      "outputs": [
        {
          "output_type": "error",
          "ename": "error",
          "evalue": "ignored",
          "traceback": [
            "\u001b[0;31m---------------------------------------------------------------------------\u001b[0m",
            "\u001b[0;31merror\u001b[0m                                     Traceback (most recent call last)",
            "\u001b[0;32m<ipython-input-35-a43efa0ea55c>\u001b[0m in \u001b[0;36m<module>\u001b[0;34m()\u001b[0m\n\u001b[1;32m      4\u001b[0m \u001b[0mimage2\u001b[0m\u001b[0;34m=\u001b[0m\u001b[0mcv2\u001b[0m\u001b[0;34m.\u001b[0m\u001b[0mimread\u001b[0m\u001b[0;34m(\u001b[0m\u001b[0;34m'drive/My Drive/CVIT Day 4/Panorama/Eg1/img2_1.png'\u001b[0m\u001b[0;34m)\u001b[0m\u001b[0;34m\u001b[0m\u001b[0;34m\u001b[0m\u001b[0m\n\u001b[1;32m      5\u001b[0m \u001b[0;34m\u001b[0m\u001b[0m\n\u001b[0;32m----> 6\u001b[0;31m \u001b[0mimage1_gray\u001b[0m\u001b[0;34m=\u001b[0m\u001b[0mcv2\u001b[0m\u001b[0;34m.\u001b[0m\u001b[0mcvtColor\u001b[0m\u001b[0;34m(\u001b[0m\u001b[0mimage1\u001b[0m\u001b[0;34m,\u001b[0m\u001b[0mcv2\u001b[0m\u001b[0;34m.\u001b[0m\u001b[0mCOLOR_BGR2GRAY\u001b[0m\u001b[0;34m)\u001b[0m\u001b[0;34m\u001b[0m\u001b[0;34m\u001b[0m\u001b[0m\n\u001b[0m\u001b[1;32m      7\u001b[0m \u001b[0mimage2_gray\u001b[0m\u001b[0;34m=\u001b[0m\u001b[0mcv2\u001b[0m\u001b[0;34m.\u001b[0m\u001b[0mcvtColor\u001b[0m\u001b[0;34m(\u001b[0m\u001b[0mimage2\u001b[0m\u001b[0;34m,\u001b[0m\u001b[0mcv2\u001b[0m\u001b[0;34m.\u001b[0m\u001b[0mCOLOR_BGR2GRAY\u001b[0m\u001b[0;34m)\u001b[0m\u001b[0;34m\u001b[0m\u001b[0;34m\u001b[0m\u001b[0m\n\u001b[1;32m      8\u001b[0m \u001b[0;34m\u001b[0m\u001b[0m\n",
            "\u001b[0;31merror\u001b[0m: OpenCV(4.1.2) /io/opencv/modules/imgproc/src/color.cpp:182: error: (-215:Assertion failed) !_src.empty() in function 'cvtColor'\n"
          ]
        }
      ]
    }
  ]
}